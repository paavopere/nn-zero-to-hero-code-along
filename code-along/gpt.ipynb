{
 "cells": [
  {
   "cell_type": "markdown",
   "id": "f52a01fe-80ab-487d-8405-09ab694adc14",
   "metadata": {},
   "source": [
    "https://www.youtube.com/watch?v=kCc8FmEb1nY"
   ]
  },
  {
   "cell_type": "code",
   "execution_count": 28,
   "id": "818063b3-2710-4d39-95c6-ec64719496dd",
   "metadata": {},
   "outputs": [],
   "source": [
    "# !curl https://raw.githubusercontent.com/karpathy/char-rnn/master/data/tinyshakespeare/input.txt > datasets/shakespeare.txt\n",
    "# !curl https://www.gutenberg.org/cache/epub/5186/pg5186.txt > datasets/kalevala-en.txt\n",
    "!curl https://www.gutenberg.org/cache/epub/7000/pg7000.txt > datasets/kalevala-fi.txt"
   ]
  },
  {
   "cell_type": "code",
   "execution_count": 58,
   "id": "34399477-aeca-4f56-830a-bd35b2e3cfa4",
   "metadata": {},
   "outputs": [
    {
     "name": "stdout",
     "output_type": "stream",
     "text": [
      "610233\n",
      "  Ensimmäinen runo\n",
      "\n",
      "\n",
      "  Mieleni minun tekevi,\n",
      "  aivoni ajattelevi\n",
      "  lähteäni laulamahan,\n",
      "  saa'ani sanelemahan,\n",
      "  sukuvirttä suoltamahan,\n",
      "  lajivirttä laulamahan.\n",
      "  Sanat suussani sulavat,\n",
      "  puhe'et putoelevat,\n",
      "  kielelleni kerkiävät,\n",
      "  hampahilleni hajoovat.\n",
      "  Veli kulta, veikkoseni,\n",
      "  kaunis kasvinkumppalini!\n",
      "  Lähe nyt kanssa laulamahan,\n",
      "  saa kera sanelemahan\n",
      "  yhtehen yhyttyämme,\n",
      "  kahta'alta käytyämme!\n",
      "  Harvoin yhtehen yhymme,\n",
      "  saamme toinen toisihimme\n",
      "  näillä raukoilla rajoilla,\n",
      "  poloisilla Pohjan mailla.\n",
      "  Lyökämme käsi kätehen,\n",
      "  sormet sormien lomahan,\n",
      "  lauloaksemme hyviä,\n",
      "  parahia pannaksemme,\n",
      "  kuulla noien kultaisien,\n",
      "  tietä mielitehtoisien,\n",
      "  nuorisossa nousevassa,\n",
      "  kansassa kasuavassa:\n",
      "  noita saamia sanoja,\n",
      "  virsiä virittämiä\n",
      "  vyöltä vanhan Väinämöisen,\n",
      "  alta ahjon Ilmarisen,\n",
      "  päästä kalvan Kaukomielen,\n",
      "  Joukahaisen jousen tiestä,\n",
      "  Pohjan peltojen periltä,\n",
      "  Kalevalan kankahilta.\n",
      "  Niit' ennen isoni lauloi\n",
      "  kirvesvartta vuollessansa;\n",
      "  niitä äitini opetti\n",
      "\n"
     ]
    }
   ],
   "source": [
    "with open('datasets/kalevala-fi.txt') as f:\n",
    "    text = f.read()[2329:]\n",
    "    \n",
    "print(len(text))\n",
    "print(text[:1000])"
   ]
  },
  {
   "cell_type": "code",
   "execution_count": 59,
   "id": "27a9efb0-c3cc-4dbe-af96-905c9c96066b",
   "metadata": {},
   "outputs": [
    {
     "name": "stdout",
     "output_type": "stream",
     "text": [
      "['\\n', ' ', '!', '\"', '$', '%', \"'\", '(', ')', '*', ',', '-', '.', '/', '0', '1', '2', '3', '4', '5', '6', '7', '8', '9', ':', ';', '?', '@', 'A', 'B', 'C', 'D', 'E', 'F', 'G', 'H', 'I', 'J', 'K', 'L', 'M', 'N', 'O', 'P', 'Q', 'R', 'S', 'T', 'U', 'V', 'W', 'X', 'Y', 'a', 'b', 'c', 'd', 'e', 'f', 'g', 'h', 'i', 'j', 'k', 'l', 'm', 'n', 'o', 'p', 'q', 'r', 's', 't', 'u', 'v', 'w', 'x', 'y', 'z', 'Ä', 'ä', 'ö']\n",
      "[49, 80, 61, 66, 80, 65, 81, 61, 66, 57, 66]\n",
      "Väinämöinen\n"
     ]
    }
   ],
   "source": [
    "chars = sorted(set(text))\n",
    "\n",
    "stoi = {c: i for i, c in enumerate(chars)}\n",
    "itos = {i: c for i, c in enumerate(chars)}\n",
    "encode = lambda s: [stoi[c] for c in s]\n",
    "decode = lambda l: ''.join(itos[i] for i in l)\n",
    "\n",
    "print(chars)\n",
    "print(enc := list(encode('Väinämöinen')))\n",
    "print(decode(enc))"
   ]
  },
  {
   "cell_type": "code",
   "execution_count": 60,
   "id": "4bafbcdf-7c3c-4109-b828-ca39e7c954ac",
   "metadata": {},
   "outputs": [
    {
     "name": "stdout",
     "output_type": "stream",
     "text": [
      "torch.Size([610233]) torch.int64\n",
      "tensor([ 1,  1, 32, 66, 71, 61, 65, 65, 80, 61, 66, 57, 66,  1, 70, 73, 66, 67,\n",
      "         0,  0,  0,  1,  1, 40, 61, 57, 64, 57, 66, 61,  1, 65, 61, 66, 73, 66,\n",
      "         1, 72, 57, 63, 57, 74, 61, 10,  0,  1,  1, 53, 61, 74, 67, 66, 61,  1,\n",
      "        53, 62, 53, 72, 72, 57, 64, 57, 74, 61,  0,  1,  1, 64, 80, 60, 72, 57,\n",
      "        80, 66, 61,  1, 64, 53, 73, 64, 53, 65, 53, 60, 53, 66, 10,  0,  1,  1,\n",
      "        71, 53, 53,  6, 53, 66, 61,  1, 71, 53, 66, 57, 64, 57, 65, 53, 60, 53,\n",
      "        66, 10,  0,  1,  1, 71, 73, 63, 73, 74, 61, 70, 72, 72, 80,  1, 71, 73,\n",
      "        67, 64, 72, 53, 65, 53, 60, 53, 66, 10,  0,  1,  1, 64, 53, 62, 61, 74,\n",
      "        61, 70, 72, 72, 80,  1, 64, 53, 73, 64, 53, 65, 53, 60, 53, 66, 12,  0,\n",
      "         1,  1, 46, 53, 66, 53, 72,  1, 71, 73, 73, 71, 71, 53, 66, 61,  1, 71,\n",
      "        73, 64, 53, 74, 53, 72, 10,  0,  1,  1, 68, 73, 60, 57,  6, 57, 72,  1,\n",
      "        68, 73, 72, 67, 57, 64, 57, 74, 53, 72, 10,  0,  1,  1, 63, 61, 57, 64,\n",
      "        57, 64, 64, 57, 66, 61,  1, 63, 57, 70, 63, 61, 80, 74, 80, 72, 10,  0,\n",
      "         1,  1, 60, 53, 65, 68, 53, 60, 61, 64, 64, 57, 66, 61,  1, 60, 53, 62,\n",
      "        67, 67, 74, 53, 72, 12,  0,  1,  1, 49, 57, 64, 61,  1, 63, 73, 64, 72,\n",
      "        53, 10,  1, 74, 57, 61, 63, 63, 67, 71, 57, 66, 61, 10,  0,  1,  1, 63,\n",
      "        53, 73, 66, 61, 71,  1, 63, 53, 71, 74, 61, 66, 63, 73, 65, 68, 68, 53,\n",
      "        64, 61, 66, 61,  2,  0,  1,  1, 39, 80, 60, 57,  1, 66, 77, 72,  1, 63,\n",
      "        53, 66, 71, 71, 53,  1, 64, 53, 73, 64, 53, 65, 53, 60, 53, 66, 10,  0,\n",
      "         1,  1, 71, 53, 53,  1, 63, 57, 70, 53,  1, 71, 53, 66, 57, 64, 57, 65,\n",
      "        53, 60, 53, 66,  0,  1,  1, 77, 60, 72, 57, 60, 57, 66,  1, 77, 60, 77,\n",
      "        72, 72, 77, 80, 65, 65, 57, 10,  0,  1,  1, 63, 53, 60, 72, 53,  6, 53,\n",
      "        64, 72, 53,  1, 63, 80, 77, 72, 77, 80, 65, 65, 57,  2,  0,  1,  1, 35,\n",
      "        53, 70, 74, 67, 61, 66,  1, 77, 60, 72, 57, 60, 57, 66,  1, 77, 60, 77,\n",
      "        65, 65, 57, 10,  0,  1,  1, 71, 53, 53, 65, 65, 57,  1, 72, 67, 61, 66,\n",
      "        57, 66,  1, 72, 67, 61, 71, 61, 60, 61, 65, 65, 57,  0,  1,  1, 66, 80,\n",
      "        61, 64, 64, 80,  1, 70, 53, 73, 63, 67, 61, 64, 64, 53,  1, 70, 53, 62,\n",
      "        67, 61, 64, 64, 53, 10,  0,  1,  1, 68, 67, 64, 67, 61, 71, 61, 64, 64,\n",
      "        53,  1, 43, 67, 60, 62, 53, 66,  1, 65, 53, 61, 64, 64, 53, 12,  0,  1,\n",
      "         1, 39, 77, 81, 63, 80, 65, 65, 57,  1, 63, 80, 71, 61,  1, 63, 80, 72,\n",
      "        57, 60, 57, 66, 10,  0,  1,  1, 71, 67, 70, 65, 57, 72,  1, 71, 67, 70,\n",
      "        65, 61, 57, 66,  1, 64, 67, 65, 53, 60, 53, 66, 10,  0,  1,  1, 64, 53,\n",
      "        73, 64, 67, 53, 63, 71, 57, 65, 65, 57,  1, 60, 77, 74, 61, 80, 10,  0,\n",
      "         1,  1, 68, 53, 70, 53, 60, 61, 53,  1, 68, 53, 66, 66, 53, 63, 71, 57,\n",
      "        65, 65, 57, 10,  0,  1,  1, 63, 73, 73, 64, 64, 53,  1, 66, 67, 61, 57,\n",
      "        66,  1, 63, 73, 64, 72, 53, 61, 71, 61, 57, 66, 10,  0,  1,  1, 72, 61,\n",
      "        57, 72, 80,  1, 65, 61, 57, 64, 61, 72, 57, 60, 72, 67, 61, 71, 61, 57,\n",
      "        66, 10,  0,  1,  1, 66, 73, 67, 70, 61, 71, 67, 71, 71, 53,  1, 66, 67,\n",
      "        73, 71, 57, 74, 53, 71, 71, 53, 10,  0,  1,  1, 63, 53, 66, 71, 53, 71,\n",
      "        71, 53,  1, 63, 53, 71, 73, 53, 74, 53, 71, 71, 53, 24,  0,  1,  1, 66,\n",
      "        67, 61, 72, 53,  1, 71, 53, 53, 65, 61, 53,  1, 71, 53, 66, 67, 62, 53,\n",
      "        10,  0,  1,  1, 74, 61, 70, 71, 61, 80,  1, 74, 61, 70, 61, 72, 72, 80,\n",
      "        65, 61, 80,  0,  1,  1, 74, 77, 81, 64, 72, 80,  1, 74, 53, 66, 60, 53,\n",
      "        66,  1, 49, 80, 61, 66, 80, 65, 81, 61, 71, 57, 66, 10,  0,  1,  1, 53,\n",
      "        64, 72, 53,  1, 53, 60, 62, 67, 66,  1, 36, 64, 65, 53, 70, 61, 71, 57,\n",
      "        66, 10,  0,  1,  1, 68, 80, 80, 71, 72, 80,  1, 63, 53, 64, 74, 53, 66,\n",
      "         1, 38, 53, 73, 63, 67, 65, 61, 57, 64, 57, 66, 10,  0,  1,  1, 37, 67,\n",
      "        73, 63, 53, 60, 53, 61, 71, 57, 66,  1, 62, 67, 73, 71, 57, 66,  1, 72,\n",
      "        61, 57, 71, 72, 80, 10,  0,  1,  1, 43, 67, 60, 62, 53, 66,  1, 68, 57,\n",
      "        64, 72, 67, 62, 57, 66,  1, 68, 57, 70, 61, 64, 72, 80, 10,  0,  1,  1,\n",
      "        38, 53, 64, 57, 74, 53, 64, 53, 66,  1, 63, 53, 66, 63, 53, 60, 61, 64,\n",
      "        72, 53, 12,  0,  1,  1, 41, 61, 61, 72,  6,  1, 57, 66, 66, 57, 66,  1,\n",
      "        61, 71, 67, 66, 61,  1, 64, 53, 73, 64, 67, 61,  0,  1,  1, 63, 61, 70,\n",
      "        74, 57, 71, 74, 53, 70, 72, 72, 53,  1, 74, 73, 67, 64, 64, 57, 71, 71,\n",
      "        53, 66, 71, 53, 25,  0,  1,  1, 66, 61, 61, 72, 80,  1, 80, 61, 72, 61,\n",
      "        66, 61,  1, 67, 68, 57, 72, 72, 61,  0])\n"
     ]
    }
   ],
   "source": [
    "import torch\n",
    "\n",
    "data = torch.tensor(encode(text), dtype=torch.long)\n",
    "print(data.shape, data.dtype)\n",
    "print(data[:1000])"
   ]
  },
  {
   "cell_type": "code",
   "execution_count": 61,
   "id": "abbcb757-c2f7-4dbd-aade-963bc26e7368",
   "metadata": {},
   "outputs": [],
   "source": [
    "n = int(0.9 * len(data))\n",
    "train_data = data[:n]\n",
    "val_data = data[n:]"
   ]
  },
  {
   "cell_type": "code",
   "execution_count": 62,
   "id": "5465468d-1eb5-4d86-8be3-02511112778f",
   "metadata": {},
   "outputs": [
    {
     "data": {
      "text/plain": [
       "tensor([ 1,  1, 32, 66, 71, 61, 65, 65, 80])"
      ]
     },
     "execution_count": 62,
     "metadata": {},
     "output_type": "execute_result"
    }
   ],
   "source": [
    "block_size = 8\n",
    "\n",
    "train_data[:block_size+1]"
   ]
  },
  {
   "cell_type": "code",
   "execution_count": 63,
   "id": "c334d327-7ebc-423e-9771-c2e0481a8c00",
   "metadata": {},
   "outputs": [
    {
     "name": "stdout",
     "output_type": "stream",
     "text": [
      "tensor([1]) -> 1\n",
      "tensor([1, 1]) -> 32\n",
      "tensor([ 1,  1, 32]) -> 66\n",
      "tensor([ 1,  1, 32, 66]) -> 71\n",
      "tensor([ 1,  1, 32, 66, 71]) -> 61\n",
      "tensor([ 1,  1, 32, 66, 71, 61]) -> 65\n",
      "tensor([ 1,  1, 32, 66, 71, 61, 65]) -> 65\n",
      "tensor([ 1,  1, 32, 66, 71, 61, 65, 65]) -> 80\n"
     ]
    }
   ],
   "source": [
    "x = train_data[:block_size]\n",
    "y = train_data[1:block_size+1]\n",
    "for t in range(block_size):\n",
    "    context = x[:t+1]\n",
    "    target = y[t]\n",
    "    print(f'{context} -> {target}')"
   ]
  },
  {
   "cell_type": "code",
   "execution_count": 69,
   "id": "b1dc0957-320f-48a4-9df9-7fd945e341e3",
   "metadata": {},
   "outputs": [
    {
     "name": "stdout",
     "output_type": "stream",
     "text": [
      "\n",
      "xb.shape=torch.Size([4, 8])\n",
      "xb=tensor([[ 0,  1,  1, 57, 61, 63, 80, 68],\n",
      "        [ 1, 65, 53, 72, 63, 53, 64, 64],\n",
      "        [ 0,  1,  1, 68, 53, 64, 53, 71],\n",
      "        [ 1, 71, 57, 68, 68, 67,  1, 36]])\n",
      " \n",
      "yb.shape=torch.Size([4, 8])\n",
      "yb=tensor([[ 1,  1, 57, 61, 63, 80, 68, 80],\n",
      "        [65, 53, 72, 63, 53, 64, 64, 53],\n",
      "        [ 1,  1, 68, 53, 64, 53, 71, 57],\n",
      "        [71, 57, 68, 68, 67,  1, 36, 64]])\n",
      "\n",
      "[0] -> 1\n",
      "[0, 1] -> 1\n",
      "[0, 1, 1] -> 57\n",
      "[0, 1, 1, 57] -> 61\n",
      "[0, 1, 1, 57, 61] -> 63\n",
      "[0, 1, 1, 57, 61, 63] -> 80\n",
      "[0, 1, 1, 57, 61, 63, 80] -> 68\n",
      "[0, 1, 1, 57, 61, 63, 80, 68] -> 80\n",
      "[1] -> 65\n",
      "[1, 65] -> 53\n",
      "[1, 65, 53] -> 72\n",
      "[1, 65, 53, 72] -> 63\n",
      "[1, 65, 53, 72, 63] -> 53\n",
      "[1, 65, 53, 72, 63, 53] -> 64\n",
      "[1, 65, 53, 72, 63, 53, 64] -> 64\n",
      "[1, 65, 53, 72, 63, 53, 64, 64] -> 53\n",
      "[0] -> 1\n",
      "[0, 1] -> 1\n",
      "[0, 1, 1] -> 68\n",
      "[0, 1, 1, 68] -> 53\n",
      "[0, 1, 1, 68, 53] -> 64\n",
      "[0, 1, 1, 68, 53, 64] -> 53\n",
      "[0, 1, 1, 68, 53, 64, 53] -> 71\n",
      "[0, 1, 1, 68, 53, 64, 53, 71] -> 57\n",
      "[1] -> 71\n",
      "[1, 71] -> 57\n",
      "[1, 71, 57] -> 68\n",
      "[1, 71, 57, 68] -> 68\n",
      "[1, 71, 57, 68, 68] -> 67\n",
      "[1, 71, 57, 68, 68, 67] -> 1\n",
      "[1, 71, 57, 68, 68, 67, 1] -> 36\n",
      "[1, 71, 57, 68, 68, 67, 1, 36] -> 64\n"
     ]
    }
   ],
   "source": [
    "torch.manual_seed(123)\n",
    "\n",
    "batch_size = 4\n",
    "block_size = 8\n",
    "\n",
    "def get_batch(split):\n",
    "    data = train_data if split == 'train' else val_data\n",
    "    ix = torch.randint(len(data) - block_size, (batch_size,))\n",
    "    x = torch.stack([data[i:i+block_size] for i in ix])\n",
    "    y = torch.stack([data[i+1:i+block_size+1] for i in ix])\n",
    "    return x, y\n",
    "\n",
    "xb, yb = get_batch('train')\n",
    "print(f'''\n",
    "{xb.shape=}\n",
    "{xb=}\n",
    " \n",
    "{yb.shape=}\n",
    "{yb=}\n",
    "''')\n",
    "\n",
    "for b in range(batch_size):\n",
    "    for t in range(block_size):\n",
    "        context = xb[b, :t+1]\n",
    "        target = yb[b, t]\n",
    "        print(f'{context.tolist()} -> {target}')"
   ]
  },
  {
   "cell_type": "code",
   "execution_count": 70,
   "id": "9a874878-766f-4ce8-9b5c-59e4d6510d2e",
   "metadata": {},
   "outputs": [
    {
     "data": {
      "text/plain": [
       "tensor([[ 0,  1,  1, 57, 61, 63, 80, 68],\n",
       "        [ 1, 65, 53, 72, 63, 53, 64, 64],\n",
       "        [ 0,  1,  1, 68, 53, 64, 53, 71],\n",
       "        [ 1, 71, 57, 68, 68, 67,  1, 36]])"
      ]
     },
     "execution_count": 70,
     "metadata": {},
     "output_type": "execute_result"
    }
   ],
   "source": [
    "xb"
   ]
  },
  {
   "cell_type": "code",
   "execution_count": 75,
   "id": "320bb3fa-ae3f-4137-bf94-7b67dd3c68ba",
   "metadata": {},
   "outputs": [
    {
     "data": {
      "text/plain": [
       "torch.Size([4, 8, 82])"
      ]
     },
     "execution_count": 75,
     "metadata": {},
     "output_type": "execute_result"
    }
   ],
   "source": [
    "import torch\n",
    "from torch import nn\n",
    "from torch.nn import functional as F\n",
    "torch.manual_seed(123)\n",
    "\n",
    "class BigramLanguageModel(nn.Module):\n",
    "    def __init__(self, vocab_size):\n",
    "        super().__init__()\n",
    "        self.token_embedding_table = nn.Embedding(vocab_size, vocab_size)\n",
    "\n",
    "    def forward(self, idx, targets):\n",
    "        logits = self.token_embedding_table(idx)\n",
    "        return logits\n",
    "\n",
    "m = BigramLanguageModel(vocab_size=len(chars))\n",
    "out = m(xb, yb)\n",
    "\n",
    "out.shape"
   ]
  },
  {
   "cell_type": "code",
   "execution_count": 76,
   "id": "8b966120-95bb-41d2-93cc-387bf8d551e3",
   "metadata": {},
   "outputs": [
    {
     "data": {
      "text/plain": [
       "Embedding(82, 82)"
      ]
     },
     "execution_count": 76,
     "metadata": {},
     "output_type": "execute_result"
    }
   ],
   "source": [
    "m.token_embedding_table"
   ]
  },
  {
   "cell_type": "code",
   "execution_count": 77,
   "id": "a833c67d-d599-46f2-b8d8-28dddc6bb32b",
   "metadata": {},
   "outputs": [
    {
     "data": {
      "text/plain": [
       "tensor([[[ 0.3374, -0.1778, -0.3035,  ..., -1.4465,  0.2553, -0.5496],\n",
       "         [ 1.0042,  0.8272, -0.3948,  ...,  2.0024, -0.5469,  1.6014],\n",
       "         [ 1.0042,  0.8272, -0.3948,  ...,  2.0024, -0.5469,  1.6014],\n",
       "         ...,\n",
       "         [ 0.1219, -1.2203,  0.9311,  ...,  1.0900,  0.3342,  0.4057],\n",
       "         [ 0.3122, -1.2654, -0.4209,  ...,  1.4228, -0.1422, -1.4169],\n",
       "         [ 1.7749,  0.4905, -0.5847,  ..., -0.1341,  0.8229,  0.0723]],\n",
       "\n",
       "        [[ 1.0042,  0.8272, -0.3948,  ...,  2.0024, -0.5469,  1.6014],\n",
       "         [-0.5910,  0.2357, -1.3192,  ...,  0.5429,  0.9102,  0.1155],\n",
       "         [ 1.0788, -1.3775,  0.0337,  ..., -0.9473,  2.3808,  0.2818],\n",
       "         ...,\n",
       "         [ 1.0788, -1.3775,  0.0337,  ..., -0.9473,  2.3808,  0.2818],\n",
       "         [ 0.7726, -1.5532,  0.0867,  ...,  1.4542,  0.6126, -0.5760],\n",
       "         [ 0.7726, -1.5532,  0.0867,  ...,  1.4542,  0.6126, -0.5760]],\n",
       "\n",
       "        [[ 0.3374, -0.1778, -0.3035,  ..., -1.4465,  0.2553, -0.5496],\n",
       "         [ 1.0042,  0.8272, -0.3948,  ...,  2.0024, -0.5469,  1.6014],\n",
       "         [ 1.0042,  0.8272, -0.3948,  ...,  2.0024, -0.5469,  1.6014],\n",
       "         ...,\n",
       "         [ 0.7726, -1.5532,  0.0867,  ...,  1.4542,  0.6126, -0.5760],\n",
       "         [ 1.0788, -1.3775,  0.0337,  ..., -0.9473,  2.3808,  0.2818],\n",
       "         [ 1.2001, -1.7180,  0.5262,  ..., -0.8915,  0.0729, -0.0467]],\n",
       "\n",
       "        [[ 1.0042,  0.8272, -0.3948,  ...,  2.0024, -0.5469,  1.6014],\n",
       "         [ 1.2001, -1.7180,  0.5262,  ..., -0.8915,  0.0729, -0.0467],\n",
       "         [-0.7418,  0.5702,  1.1639,  ...,  0.6858,  1.5535,  0.2145],\n",
       "         ...,\n",
       "         [ 1.0242,  0.7460,  0.0131,  ...,  0.4142,  0.2661,  1.1797],\n",
       "         [ 1.0042,  0.8272, -0.3948,  ...,  2.0024, -0.5469,  1.6014],\n",
       "         [-1.8441,  1.2924, -0.5939,  ...,  0.2575,  0.4683,  0.9954]]],\n",
       "       grad_fn=<EmbeddingBackward0>)"
      ]
     },
     "execution_count": 77,
     "metadata": {},
     "output_type": "execute_result"
    }
   ],
   "source": [
    "out"
   ]
  },
  {
   "cell_type": "code",
   "execution_count": null,
   "id": "72448d1c-4862-4f1c-b3fc-0d0f0d3b9210",
   "metadata": {},
   "outputs": [],
   "source": []
  }
 ],
 "metadata": {
  "kernelspec": {
   "display_name": "Python 3 (ipykernel)",
   "language": "python",
   "name": "python3"
  },
  "language_info": {
   "codemirror_mode": {
    "name": "ipython",
    "version": 3
   },
   "file_extension": ".py",
   "mimetype": "text/x-python",
   "name": "python",
   "nbconvert_exporter": "python",
   "pygments_lexer": "ipython3",
   "version": "3.11.4"
  }
 },
 "nbformat": 4,
 "nbformat_minor": 5
}
