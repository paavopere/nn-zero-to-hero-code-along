{
 "cells": [
  {
   "cell_type": "markdown",
   "id": "f52a01fe-80ab-487d-8405-09ab694adc14",
   "metadata": {},
   "source": [
    "https://www.youtube.com/watch?v=kCc8FmEb1nY"
   ]
  },
  {
   "cell_type": "code",
   "execution_count": 28,
   "id": "818063b3-2710-4d39-95c6-ec64719496dd",
   "metadata": {},
   "outputs": [],
   "source": [
    "# !curl https://raw.githubusercontent.com/karpathy/char-rnn/master/data/tinyshakespeare/input.txt > datasets/shakespeare.txt\n",
    "# !curl https://www.gutenberg.org/cache/epub/5186/pg5186.txt > datasets/kalevala-en.txt\n",
    "!curl https://www.gutenberg.org/cache/epub/7000/pg7000.txt > datasets/kalevala-fi.txt"
   ]
  },
  {
   "cell_type": "code",
   "execution_count": 58,
   "id": "34399477-aeca-4f56-830a-bd35b2e3cfa4",
   "metadata": {},
   "outputs": [
    {
     "name": "stdout",
     "output_type": "stream",
     "text": [
      "610233\n",
      "  Ensimmäinen runo\n",
      "\n",
      "\n",
      "  Mieleni minun tekevi,\n",
      "  aivoni ajattelevi\n",
      "  lähteäni laulamahan,\n",
      "  saa'ani sanelemahan,\n",
      "  sukuvirttä suoltamahan,\n",
      "  lajivirttä laulamahan.\n",
      "  Sanat suussani sulavat,\n",
      "  puhe'et putoelevat,\n",
      "  kielelleni kerkiävät,\n",
      "  hampahilleni hajoovat.\n",
      "  Veli kulta, veikkoseni,\n",
      "  kaunis kasvinkumppalini!\n",
      "  Lähe nyt kanssa laulamahan,\n",
      "  saa kera sanelemahan\n",
      "  yhtehen yhyttyämme,\n",
      "  kahta'alta käytyämme!\n",
      "  Harvoin yhtehen yhymme,\n",
      "  saamme toinen toisihimme\n",
      "  näillä raukoilla rajoilla,\n",
      "  poloisilla Pohjan mailla.\n",
      "  Lyökämme käsi kätehen,\n",
      "  sormet sormien lomahan,\n",
      "  lauloaksemme hyviä,\n",
      "  parahia pannaksemme,\n",
      "  kuulla noien kultaisien,\n",
      "  tietä mielitehtoisien,\n",
      "  nuorisossa nousevassa,\n",
      "  kansassa kasuavassa:\n",
      "  noita saamia sanoja,\n",
      "  virsiä virittämiä\n",
      "  vyöltä vanhan Väinämöisen,\n",
      "  alta ahjon Ilmarisen,\n",
      "  päästä kalvan Kaukomielen,\n",
      "  Joukahaisen jousen tiestä,\n",
      "  Pohjan peltojen periltä,\n",
      "  Kalevalan kankahilta.\n",
      "  Niit' ennen isoni lauloi\n",
      "  kirvesvartta vuollessansa;\n",
      "  niitä äitini opetti\n",
      "\n"
     ]
    }
   ],
   "source": [
    "with open('datasets/kalevala-fi.txt') as f:\n",
    "    text = f.read()[2329:]\n",
    "    \n",
    "print(len(text))\n",
    "print(text[:1000])"
   ]
  },
  {
   "cell_type": "code",
   "execution_count": 59,
   "id": "27a9efb0-c3cc-4dbe-af96-905c9c96066b",
   "metadata": {},
   "outputs": [
    {
     "name": "stdout",
     "output_type": "stream",
     "text": [
      "['\\n', ' ', '!', '\"', '$', '%', \"'\", '(', ')', '*', ',', '-', '.', '/', '0', '1', '2', '3', '4', '5', '6', '7', '8', '9', ':', ';', '?', '@', 'A', 'B', 'C', 'D', 'E', 'F', 'G', 'H', 'I', 'J', 'K', 'L', 'M', 'N', 'O', 'P', 'Q', 'R', 'S', 'T', 'U', 'V', 'W', 'X', 'Y', 'a', 'b', 'c', 'd', 'e', 'f', 'g', 'h', 'i', 'j', 'k', 'l', 'm', 'n', 'o', 'p', 'q', 'r', 's', 't', 'u', 'v', 'w', 'x', 'y', 'z', 'Ä', 'ä', 'ö']\n",
      "[49, 80, 61, 66, 80, 65, 81, 61, 66, 57, 66]\n",
      "Väinämöinen\n"
     ]
    }
   ],
   "source": [
    "chars = sorted(set(text))\n",
    "\n",
    "stoi = {c: i for i, c in enumerate(chars)}\n",
    "itos = {i: c for i, c in enumerate(chars)}\n",
    "encode = lambda s: [stoi[c] for c in s]\n",
    "decode = lambda l: ''.join(itos[i] for i in l)\n",
    "\n",
    "print(chars)\n",
    "print(enc := list(encode('Väinämöinen')))\n",
    "print(decode(enc))"
   ]
  },
  {
   "cell_type": "code",
   "execution_count": 60,
   "id": "4bafbcdf-7c3c-4109-b828-ca39e7c954ac",
   "metadata": {},
   "outputs": [
    {
     "name": "stdout",
     "output_type": "stream",
     "text": [
      "torch.Size([610233]) torch.int64\n",
      "tensor([ 1,  1, 32, 66, 71, 61, 65, 65, 80, 61, 66, 57, 66,  1, 70, 73, 66, 67,\n",
      "         0,  0,  0,  1,  1, 40, 61, 57, 64, 57, 66, 61,  1, 65, 61, 66, 73, 66,\n",
      "         1, 72, 57, 63, 57, 74, 61, 10,  0,  1,  1, 53, 61, 74, 67, 66, 61,  1,\n",
      "        53, 62, 53, 72, 72, 57, 64, 57, 74, 61,  0,  1,  1, 64, 80, 60, 72, 57,\n",
      "        80, 66, 61,  1, 64, 53, 73, 64, 53, 65, 53, 60, 53, 66, 10,  0,  1,  1,\n",
      "        71, 53, 53,  6, 53, 66, 61,  1, 71, 53, 66, 57, 64, 57, 65, 53, 60, 53,\n",
      "        66, 10,  0,  1,  1, 71, 73, 63, 73, 74, 61, 70, 72, 72, 80,  1, 71, 73,\n",
      "        67, 64, 72, 53, 65, 53, 60, 53, 66, 10,  0,  1,  1, 64, 53, 62, 61, 74,\n",
      "        61, 70, 72, 72, 80,  1, 64, 53, 73, 64, 53, 65, 53, 60, 53, 66, 12,  0,\n",
      "         1,  1, 46, 53, 66, 53, 72,  1, 71, 73, 73, 71, 71, 53, 66, 61,  1, 71,\n",
      "        73, 64, 53, 74, 53, 72, 10,  0,  1,  1, 68, 73, 60, 57,  6, 57, 72,  1,\n",
      "        68, 73, 72, 67, 57, 64, 57, 74, 53, 72, 10,  0,  1,  1, 63, 61, 57, 64,\n",
      "        57, 64, 64, 57, 66, 61,  1, 63, 57, 70, 63, 61, 80, 74, 80, 72, 10,  0,\n",
      "         1,  1, 60, 53, 65, 68, 53, 60, 61, 64, 64, 57, 66, 61,  1, 60, 53, 62,\n",
      "        67, 67, 74, 53, 72, 12,  0,  1,  1, 49, 57, 64, 61,  1, 63, 73, 64, 72,\n",
      "        53, 10,  1, 74, 57, 61, 63, 63, 67, 71, 57, 66, 61, 10,  0,  1,  1, 63,\n",
      "        53, 73, 66, 61, 71,  1, 63, 53, 71, 74, 61, 66, 63, 73, 65, 68, 68, 53,\n",
      "        64, 61, 66, 61,  2,  0,  1,  1, 39, 80, 60, 57,  1, 66, 77, 72,  1, 63,\n",
      "        53, 66, 71, 71, 53,  1, 64, 53, 73, 64, 53, 65, 53, 60, 53, 66, 10,  0,\n",
      "         1,  1, 71, 53, 53,  1, 63, 57, 70, 53,  1, 71, 53, 66, 57, 64, 57, 65,\n",
      "        53, 60, 53, 66,  0,  1,  1, 77, 60, 72, 57, 60, 57, 66,  1, 77, 60, 77,\n",
      "        72, 72, 77, 80, 65, 65, 57, 10,  0,  1,  1, 63, 53, 60, 72, 53,  6, 53,\n",
      "        64, 72, 53,  1, 63, 80, 77, 72, 77, 80, 65, 65, 57,  2,  0,  1,  1, 35,\n",
      "        53, 70, 74, 67, 61, 66,  1, 77, 60, 72, 57, 60, 57, 66,  1, 77, 60, 77,\n",
      "        65, 65, 57, 10,  0,  1,  1, 71, 53, 53, 65, 65, 57,  1, 72, 67, 61, 66,\n",
      "        57, 66,  1, 72, 67, 61, 71, 61, 60, 61, 65, 65, 57,  0,  1,  1, 66, 80,\n",
      "        61, 64, 64, 80,  1, 70, 53, 73, 63, 67, 61, 64, 64, 53,  1, 70, 53, 62,\n",
      "        67, 61, 64, 64, 53, 10,  0,  1,  1, 68, 67, 64, 67, 61, 71, 61, 64, 64,\n",
      "        53,  1, 43, 67, 60, 62, 53, 66,  1, 65, 53, 61, 64, 64, 53, 12,  0,  1,\n",
      "         1, 39, 77, 81, 63, 80, 65, 65, 57,  1, 63, 80, 71, 61,  1, 63, 80, 72,\n",
      "        57, 60, 57, 66, 10,  0,  1,  1, 71, 67, 70, 65, 57, 72,  1, 71, 67, 70,\n",
      "        65, 61, 57, 66,  1, 64, 67, 65, 53, 60, 53, 66, 10,  0,  1,  1, 64, 53,\n",
      "        73, 64, 67, 53, 63, 71, 57, 65, 65, 57,  1, 60, 77, 74, 61, 80, 10,  0,\n",
      "         1,  1, 68, 53, 70, 53, 60, 61, 53,  1, 68, 53, 66, 66, 53, 63, 71, 57,\n",
      "        65, 65, 57, 10,  0,  1,  1, 63, 73, 73, 64, 64, 53,  1, 66, 67, 61, 57,\n",
      "        66,  1, 63, 73, 64, 72, 53, 61, 71, 61, 57, 66, 10,  0,  1,  1, 72, 61,\n",
      "        57, 72, 80,  1, 65, 61, 57, 64, 61, 72, 57, 60, 72, 67, 61, 71, 61, 57,\n",
      "        66, 10,  0,  1,  1, 66, 73, 67, 70, 61, 71, 67, 71, 71, 53,  1, 66, 67,\n",
      "        73, 71, 57, 74, 53, 71, 71, 53, 10,  0,  1,  1, 63, 53, 66, 71, 53, 71,\n",
      "        71, 53,  1, 63, 53, 71, 73, 53, 74, 53, 71, 71, 53, 24,  0,  1,  1, 66,\n",
      "        67, 61, 72, 53,  1, 71, 53, 53, 65, 61, 53,  1, 71, 53, 66, 67, 62, 53,\n",
      "        10,  0,  1,  1, 74, 61, 70, 71, 61, 80,  1, 74, 61, 70, 61, 72, 72, 80,\n",
      "        65, 61, 80,  0,  1,  1, 74, 77, 81, 64, 72, 80,  1, 74, 53, 66, 60, 53,\n",
      "        66,  1, 49, 80, 61, 66, 80, 65, 81, 61, 71, 57, 66, 10,  0,  1,  1, 53,\n",
      "        64, 72, 53,  1, 53, 60, 62, 67, 66,  1, 36, 64, 65, 53, 70, 61, 71, 57,\n",
      "        66, 10,  0,  1,  1, 68, 80, 80, 71, 72, 80,  1, 63, 53, 64, 74, 53, 66,\n",
      "         1, 38, 53, 73, 63, 67, 65, 61, 57, 64, 57, 66, 10,  0,  1,  1, 37, 67,\n",
      "        73, 63, 53, 60, 53, 61, 71, 57, 66,  1, 62, 67, 73, 71, 57, 66,  1, 72,\n",
      "        61, 57, 71, 72, 80, 10,  0,  1,  1, 43, 67, 60, 62, 53, 66,  1, 68, 57,\n",
      "        64, 72, 67, 62, 57, 66,  1, 68, 57, 70, 61, 64, 72, 80, 10,  0,  1,  1,\n",
      "        38, 53, 64, 57, 74, 53, 64, 53, 66,  1, 63, 53, 66, 63, 53, 60, 61, 64,\n",
      "        72, 53, 12,  0,  1,  1, 41, 61, 61, 72,  6,  1, 57, 66, 66, 57, 66,  1,\n",
      "        61, 71, 67, 66, 61,  1, 64, 53, 73, 64, 67, 61,  0,  1,  1, 63, 61, 70,\n",
      "        74, 57, 71, 74, 53, 70, 72, 72, 53,  1, 74, 73, 67, 64, 64, 57, 71, 71,\n",
      "        53, 66, 71, 53, 25,  0,  1,  1, 66, 61, 61, 72, 80,  1, 80, 61, 72, 61,\n",
      "        66, 61,  1, 67, 68, 57, 72, 72, 61,  0])\n"
     ]
    }
   ],
   "source": [
    "import torch\n",
    "\n",
    "data = torch.tensor(encode(text), dtype=torch.long)\n",
    "print(data.shape, data.dtype)\n",
    "print(data[:1000])"
   ]
  },
  {
   "cell_type": "code",
   "execution_count": 61,
   "id": "abbcb757-c2f7-4dbd-aade-963bc26e7368",
   "metadata": {},
   "outputs": [],
   "source": [
    "n = int(0.9 * len(data))\n",
    "train_data = data[:n]\n",
    "val_data = data[n:]"
   ]
  },
  {
   "cell_type": "code",
   "execution_count": 62,
   "id": "5465468d-1eb5-4d86-8be3-02511112778f",
   "metadata": {},
   "outputs": [
    {
     "data": {
      "text/plain": [
       "tensor([ 1,  1, 32, 66, 71, 61, 65, 65, 80])"
      ]
     },
     "execution_count": 62,
     "metadata": {},
     "output_type": "execute_result"
    }
   ],
   "source": [
    "block_size = 8\n",
    "\n",
    "train_data[:block_size+1]"
   ]
  },
  {
   "cell_type": "code",
   "execution_count": 63,
   "id": "c334d327-7ebc-423e-9771-c2e0481a8c00",
   "metadata": {},
   "outputs": [
    {
     "name": "stdout",
     "output_type": "stream",
     "text": [
      "tensor([1]) -> 1\n",
      "tensor([1, 1]) -> 32\n",
      "tensor([ 1,  1, 32]) -> 66\n",
      "tensor([ 1,  1, 32, 66]) -> 71\n",
      "tensor([ 1,  1, 32, 66, 71]) -> 61\n",
      "tensor([ 1,  1, 32, 66, 71, 61]) -> 65\n",
      "tensor([ 1,  1, 32, 66, 71, 61, 65]) -> 65\n",
      "tensor([ 1,  1, 32, 66, 71, 61, 65, 65]) -> 80\n"
     ]
    }
   ],
   "source": [
    "x = train_data[:block_size]\n",
    "y = train_data[1:block_size+1]\n",
    "for t in range(block_size):\n",
    "    context = x[:t+1]\n",
    "    target = y[t]\n",
    "    print(f'{context} -> {target}')"
   ]
  },
  {
   "cell_type": "code",
   "execution_count": 69,
   "id": "b1dc0957-320f-48a4-9df9-7fd945e341e3",
   "metadata": {},
   "outputs": [
    {
     "name": "stdout",
     "output_type": "stream",
     "text": [
      "\n",
      "xb.shape=torch.Size([4, 8])\n",
      "xb=tensor([[ 0,  1,  1, 57, 61, 63, 80, 68],\n",
      "        [ 1, 65, 53, 72, 63, 53, 64, 64],\n",
      "        [ 0,  1,  1, 68, 53, 64, 53, 71],\n",
      "        [ 1, 71, 57, 68, 68, 67,  1, 36]])\n",
      " \n",
      "yb.shape=torch.Size([4, 8])\n",
      "yb=tensor([[ 1,  1, 57, 61, 63, 80, 68, 80],\n",
      "        [65, 53, 72, 63, 53, 64, 64, 53],\n",
      "        [ 1,  1, 68, 53, 64, 53, 71, 57],\n",
      "        [71, 57, 68, 68, 67,  1, 36, 64]])\n",
      "\n",
      "[0] -> 1\n",
      "[0, 1] -> 1\n",
      "[0, 1, 1] -> 57\n",
      "[0, 1, 1, 57] -> 61\n",
      "[0, 1, 1, 57, 61] -> 63\n",
      "[0, 1, 1, 57, 61, 63] -> 80\n",
      "[0, 1, 1, 57, 61, 63, 80] -> 68\n",
      "[0, 1, 1, 57, 61, 63, 80, 68] -> 80\n",
      "[1] -> 65\n",
      "[1, 65] -> 53\n",
      "[1, 65, 53] -> 72\n",
      "[1, 65, 53, 72] -> 63\n",
      "[1, 65, 53, 72, 63] -> 53\n",
      "[1, 65, 53, 72, 63, 53] -> 64\n",
      "[1, 65, 53, 72, 63, 53, 64] -> 64\n",
      "[1, 65, 53, 72, 63, 53, 64, 64] -> 53\n",
      "[0] -> 1\n",
      "[0, 1] -> 1\n",
      "[0, 1, 1] -> 68\n",
      "[0, 1, 1, 68] -> 53\n",
      "[0, 1, 1, 68, 53] -> 64\n",
      "[0, 1, 1, 68, 53, 64] -> 53\n",
      "[0, 1, 1, 68, 53, 64, 53] -> 71\n",
      "[0, 1, 1, 68, 53, 64, 53, 71] -> 57\n",
      "[1] -> 71\n",
      "[1, 71] -> 57\n",
      "[1, 71, 57] -> 68\n",
      "[1, 71, 57, 68] -> 68\n",
      "[1, 71, 57, 68, 68] -> 67\n",
      "[1, 71, 57, 68, 68, 67] -> 1\n",
      "[1, 71, 57, 68, 68, 67, 1] -> 36\n",
      "[1, 71, 57, 68, 68, 67, 1, 36] -> 64\n"
     ]
    }
   ],
   "source": [
    "torch.manual_seed(123)\n",
    "\n",
    "batch_size = 4\n",
    "block_size = 8\n",
    "\n",
    "def get_batch(split):\n",
    "    data = train_data if split == 'train' else val_data\n",
    "    ix = torch.randint(len(data) - block_size, (batch_size,))\n",
    "    x = torch.stack([data[i:i+block_size] for i in ix])\n",
    "    y = torch.stack([data[i+1:i+block_size+1] for i in ix])\n",
    "    return x, y\n",
    "\n",
    "xb, yb = get_batch('train')\n",
    "print(f'''\n",
    "{xb.shape=}\n",
    "{xb=}\n",
    " \n",
    "{yb.shape=}\n",
    "{yb=}\n",
    "''')\n",
    "\n",
    "for b in range(batch_size):\n",
    "    for t in range(block_size):\n",
    "        context = xb[b, :t+1]\n",
    "        target = yb[b, t]\n",
    "        print(f'{context.tolist()} -> {target}')"
   ]
  },
  {
   "cell_type": "code",
   "execution_count": 70,
   "id": "9a874878-766f-4ce8-9b5c-59e4d6510d2e",
   "metadata": {},
   "outputs": [
    {
     "data": {
      "text/plain": [
       "tensor([[ 0,  1,  1, 57, 61, 63, 80, 68],\n",
       "        [ 1, 65, 53, 72, 63, 53, 64, 64],\n",
       "        [ 0,  1,  1, 68, 53, 64, 53, 71],\n",
       "        [ 1, 71, 57, 68, 68, 67,  1, 36]])"
      ]
     },
     "execution_count": 70,
     "metadata": {},
     "output_type": "execute_result"
    }
   ],
   "source": [
    "xb"
   ]
  },
  {
   "cell_type": "code",
   "execution_count": 91,
   "id": "320bb3fa-ae3f-4137-bf94-7b67dd3c68ba",
   "metadata": {},
   "outputs": [
    {
     "data": {
      "text/plain": [
       "torch.Size([32, 82])"
      ]
     },
     "execution_count": 91,
     "metadata": {},
     "output_type": "execute_result"
    }
   ],
   "source": [
    "import torch\n",
    "from torch import nn\n",
    "from torch.nn import functional as F\n",
    "torch.manual_seed(123)\n",
    "\n",
    "class BigramLanguageModel(nn.Module):\n",
    "    \n",
    "    def __init__(self, vocab_size):\n",
    "        super().__init__()\n",
    "        self.token_embedding_table = nn.Embedding(vocab_size, vocab_size)\n",
    "\n",
    "    def forward(self, idx, targets=None):\n",
    "        \n",
    "        # idx, targets are (B, T) tensors\n",
    "        logits = self.token_embedding_table(idx)  # (B, T, C)\n",
    "\n",
    "        if targets is None:\n",
    "            loss = None\n",
    "        else:\n",
    "            B, T, C = logits.shape\n",
    "            logits = logits.view(B*T, C)\n",
    "            targets = targets.view(B*T)\n",
    "            loss = F.cross_entropy(logits, targets)\n",
    "        \n",
    "        return logits, loss\n",
    "\n",
    "    def generate(self, idx, max_new_tokens):\n",
    "        # idx here is apparently a (B, T) tensor of indices \"in the current context\"\n",
    "        for _ in range(max_new_tokens):\n",
    "            logits, (loss) = self(idx)\n",
    "            logits = logits[:, -1, :]  # take the last time step, \"becomes (B, C)\"\n",
    "            probs = F.softmax(logits, dim=-1)  # (B, C)\n",
    "            idx_next = torch.multinomial(probs, num_samples=1)  # (B, 1)\n",
    "            \n",
    "            # concatenate sample to running, becomes (B, T+1 )\n",
    "            idx = torch.cat((idx, idx_next), dim=1)  \n",
    "        return idx\n",
    "\n",
    "m = BigramLanguageModel(vocab_size=len(chars))\n",
    "logits, loss = m(xb, yb)\n",
    "\n",
    "logits.shape"
   ]
  },
  {
   "cell_type": "code",
   "execution_count": 102,
   "id": "69f1e045-7aec-412b-a250-89a3512567fc",
   "metadata": {},
   "outputs": [
    {
     "name": "stdout",
     "output_type": "stream",
     "text": [
      "tensor([[0]])\n"
     ]
    },
    {
     "data": {
      "text/plain": [
       "'\\nPpcd6,CD7ND%t9(h?2U4uHS%rWAo13$: SWDyi4nLA$\"p7!äH2vQhu,ubJ7ElGny0jy/9jQWt?Q.$:E;d7,gpGhs(5//5YKyD mk'"
      ]
     },
     "execution_count": 102,
     "metadata": {},
     "output_type": "execute_result"
    }
   ],
   "source": [
    "idx = torch.zeros((1, 1), dtype=torch.long)\n",
    "print(idx)\n",
    "decode(m.generate(idx, max_new_tokens=100)[0].tolist())"
   ]
  },
  {
   "cell_type": "code",
   "execution_count": 92,
   "id": "ed9afaaf-7ad8-4549-94f3-bfede58d30b6",
   "metadata": {},
   "outputs": [
    {
     "data": {
      "text/plain": [
       "tensor(5.0576, grad_fn=<NllLossBackward0>)"
      ]
     },
     "execution_count": 92,
     "metadata": {},
     "output_type": "execute_result"
    }
   ],
   "source": [
    "loss"
   ]
  },
  {
   "cell_type": "code",
   "execution_count": 94,
   "id": "72448d1c-4862-4f1c-b3fc-0d0f0d3b9210",
   "metadata": {},
   "outputs": [
    {
     "data": {
      "text/plain": [
       "(tensor([ 1.0042e+00,  8.2723e-01, -3.9481e-01,  4.8923e-01, -2.1681e-01,\n",
       "         -1.7472e+00, -1.6025e+00, -1.0764e+00,  9.0315e-01, -7.2184e-01,\n",
       "         -5.9508e-01, -7.1122e-01,  6.2296e-01, -1.3729e+00, -2.2150e+00,\n",
       "         -1.3193e+00, -2.0915e+00,  9.6285e-01, -3.1861e-02, -4.7896e-01,\n",
       "          7.6681e-01,  2.7468e-02,  1.9929e+00,  1.3708e+00, -5.0087e-01,\n",
       "         -2.7928e-01, -2.0628e+00,  6.3745e-03, -9.8955e-01,  7.0161e-01,\n",
       "         -9.4053e-01, -4.6806e-01,  1.0322e+00, -2.8300e-01,  4.9275e-01,\n",
       "         -1.4078e-02, -2.7466e-01, -7.6409e-01,  1.3966e+00, -9.9491e-01,\n",
       "         -1.5822e-03,  1.2471e+00, -7.7105e-02,  1.2774e+00, -1.4596e+00,\n",
       "         -2.1595e+00, -2.5822e-01, -2.0407e+00, -8.0156e-01, -8.1830e-01,\n",
       "         -1.1820e+00, -2.8774e-01, -6.0430e-01,  6.0024e-01, -1.4053e+00,\n",
       "         -5.9216e-01, -2.5479e-01,  1.1517e+00, -1.7858e-02,  4.2640e-01,\n",
       "         -7.6574e-01, -5.4514e-02, -1.2743e+00,  4.5128e-01, -2.2801e-01,\n",
       "          9.2238e-01,  2.0561e-01, -4.9696e-01,  5.8206e-01,  2.0532e-01,\n",
       "         -3.0177e-01, -6.7030e-01, -6.1710e-01, -8.3339e-01,  4.8387e-01,\n",
       "         -1.3493e-01,  2.1187e-01, -8.7140e-01,  6.8508e-01,  2.0024e+00,\n",
       "         -5.4688e-01,  1.6014e+00], grad_fn=<EmbeddingBackward0>),\n",
       " None)"
      ]
     },
     "execution_count": 94,
     "metadata": {},
     "output_type": "execute_result"
    }
   ],
   "source": [
    "m(torch.tensor(1))"
   ]
  },
  {
   "cell_type": "code",
   "execution_count": 89,
   "id": "d5bec318-e35a-4ad8-ae42-41fd82db148c",
   "metadata": {},
   "outputs": [],
   "source": [
    "a, (b) = 1, 2"
   ]
  },
  {
   "cell_type": "code",
   "execution_count": 90,
   "id": "661cb42e-68b9-498c-9067-634b768d150d",
   "metadata": {},
   "outputs": [
    {
     "data": {
      "text/plain": [
       "2"
      ]
     },
     "execution_count": 90,
     "metadata": {},
     "output_type": "execute_result"
    }
   ],
   "source": [
    "b"
   ]
  },
  {
   "cell_type": "markdown",
   "id": "f34f0286-0066-4c72-b1a7-dbaf652cb03a",
   "metadata": {},
   "source": [
    "### let's train"
   ]
  },
  {
   "cell_type": "code",
   "execution_count": 116,
   "id": "d24ba989-0342-404c-bedb-b52aa2e4bd9c",
   "metadata": {},
   "outputs": [],
   "source": [
    "\n",
    "import pandas as pd\n",
    "from tqdm import tqdm"
   ]
  },
  {
   "cell_type": "code",
   "execution_count": 122,
   "id": "12569453-ddec-477c-a6d2-bdb1bcc6d85e",
   "metadata": {},
   "outputs": [
    {
     "name": "stderr",
     "output_type": "stream",
     "text": [
      "100%|██████████████████████████████████████████████████████████████| 100000/100000 [00:59<00:00, 1681.73it/s]\n"
     ]
    },
    {
     "data": {
      "image/png": "[encoded data removed]",
      "text/plain": [
       "<Figure size 640x480 with 1 Axes>"
      ]
     },
     "metadata": {},
     "output_type": "display_data"
    }
   ],
   "source": [
    "optimizer = torch.optim.AdamW(m.parameters(), lr=1e-3)\n",
    "\n",
    "batch_size = 32\n",
    "\n",
    "_losses = []\n",
    "for step in tqdm(range(100000)):\n",
    "    xb, yb = get_batch('train')\n",
    "\n",
    "    logits, loss = m(xb, yb)\n",
    "    optimizer.zero_grad()\n",
    "    loss.backward()\n",
    "    optimizer.step()\n",
    "    _losses.append(loss.item())\n",
    "\n",
    "pd.Series(_losses).plot();"
   ]
  },
  {
   "cell_type": "code",
   "execution_count": 127,
   "id": "6482983b-c4e0-47a0-930a-59c84c39643f",
   "metadata": {},
   "outputs": [
    {
     "name": "stdout",
     "output_type": "stream",
     "text": [
      "\n",
      " ka haja:\n",
      "   oihe Kutalja;\n",
      "  sepuheta,\n",
      " ven  Tulanian pa,\n",
      " Kuoit\n",
      "  koisimänsihelan!\n",
      " Väkakui,\n",
      " Sävisvi\n",
      " sehonenieiluoi kanhopo\n",
      "  Sikulaai en;\n",
      "  kaosahtykanen,\n",
      " Yhe mo pisyörehili ka ksemaatusuomin tkavi s Luoipehähikipu llainullan:\n",
      "   kitapoi epotanuakala   pen ve lan, Tun    ksanoikammo o koiskannä ssima  omasiavipa,\n",
      " mesakosin\n",
      " taveleläillota  ti!\"\n",
      " pi et'  pon kuootivatet\n",
      " \"Sa Sataa pii natttä,\n",
      " velätura!\n",
      " Miikoi,\n",
      " mema,\n",
      " ksisihasimmen.\n",
      " mä noalselka.\n",
      "   Jo  Tonantami mareli hamän  tta pahoken ili \"\n",
      " mikke,\n",
      " on ti!\n",
      "  Tuva katuolosi ssenti\n",
      "  \"\n",
      "   vilin,\n",
      " Akkin köhattellan ten lturenarelotäksenta, sehin ja kotarvän ta ei,\n",
      "   sellatariluti  psä solenola   mäisi\n",
      "   s!\n",
      " rjaha metohävatelelka polvinseistai nneläsa  t,\n",
      " vian Ve    kyhin \"Poan;\n",
      " jaiänkäyhotaienka.\"\n",
      " tevait e, va \"Kula.\n",
      " lea siturkaka siljaka ri, ki järkona,\n",
      " Syn siset en auontuuolanta,\n",
      " hä st Ahe   ja kinan käiiskonienen,\n",
      " ssolenten \"En, otäesitti, keha  men Suutisisi jalaki ilaaheri   a  kii tualallellkuientohe\n",
      " Illlavet  \n"
     ]
    }
   ],
   "source": [
    "idx = torch.zeros((1, 1), dtype=torch.long)\n",
    "gentext = decode(m.generate(idx, max_new_tokens=1000)[0].tolist())\n",
    "print(gentext)"
   ]
  },
  {
   "cell_type": "code",
   "execution_count": null,
   "id": "28f13a97-6013-42e7-9c96-ae9dc05df5ca",
   "metadata": {},
   "outputs": [],
   "source": []
  }
 ],
 "metadata": {
  "kernelspec": {
   "display_name": "Python 3 (ipykernel)",
   "language": "python",
   "name": "python3"
  },
  "language_info": {
   "codemirror_mode": {
    "name": "ipython",
    "version": 3
   },
   "file_extension": ".py",
   "mimetype": "text/x-python",
   "name": "python",
   "nbconvert_exporter": "python",
   "pygments_lexer": "ipython3",
   "version": "3.11.4"
  }
 },
 "nbformat": 4,
 "nbformat_minor": 5
}
