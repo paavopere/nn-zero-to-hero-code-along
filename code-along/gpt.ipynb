{
 "cells": [
  {
   "cell_type": "markdown",
   "id": "f52a01fe-80ab-487d-8405-09ab694adc14",
   "metadata": {},
   "source": [
    "https://www.youtube.com/watch?v=kCc8FmEb1nY"
   ]
  },
  {
   "cell_type": "code",
   "execution_count": 1,
   "id": "080c38f8-7c8a-4364-8ee7-eaa540b558f9",
   "metadata": {},
   "outputs": [
    {
     "data": {
      "text/plain": [
       "<torch._C.Generator at 0x10b74b5d0>"
      ]
     },
     "execution_count": 1,
     "metadata": {},
     "output_type": "execute_result"
    }
   ],
   "source": [
    "import torch\n",
    "from torch import nn\n",
    "from torch.nn import functional as F\n",
    "\n",
    "\n",
    "torch.manual_seed(123)"
   ]
  },
  {
   "cell_type": "code",
   "execution_count": 2,
   "id": "1709181a-f780-4101-98eb-2dab1d9fb450",
   "metadata": {},
   "outputs": [],
   "source": [
    "import pandas as pd\n",
    "from tqdm.notebook import tqdm"
   ]
  },
  {
   "cell_type": "markdown",
   "id": "3131beae-999a-4637-9a66-6a5263c4a869",
   "metadata": {},
   "source": [
    "## get dataset"
   ]
  },
  {
   "cell_type": "code",
   "execution_count": 3,
   "id": "818063b3-2710-4d39-95c6-ec64719496dd",
   "metadata": {},
   "outputs": [],
   "source": [
    "# !curl https://raw.githubusercontent.com/karpathy/char-rnn/master/data/tinyshakespeare/input.txt > datasets/shakespeare.txt\n",
    "# !curl https://www.gutenberg.org/cache/epub/5186/pg5186.txt > datasets/kalevala-en.txt\n",
    "# !curl https://www.gutenberg.org/cache/epub/7000/pg7000.txt > datasets/kalevala-fi.txt"
   ]
  },
  {
   "cell_type": "code",
   "execution_count": 4,
   "id": "34399477-aeca-4f56-830a-bd35b2e3cfa4",
   "metadata": {},
   "outputs": [
    {
     "name": "stdout",
     "output_type": "stream",
     "text": [
      "610233\n",
      "  Ensimmäinen runo\n",
      "\n",
      "\n",
      "  Mieleni minun tekevi,\n",
      "  aivoni ajattelevi\n",
      "  lähteäni laulamahan,\n",
      "  saa'ani sanelemahan,\n",
      "  sukuvirttä suoltamahan,\n",
      "  lajivirttä laulamahan.\n",
      "  Sanat suussani sulavat,\n",
      "  puhe'et putoelevat,\n",
      "  kielelleni kerkiävät,\n",
      "  hampahilleni hajoovat.\n",
      "  Veli kulta, veikkoseni,\n",
      "  kaunis kasvinkumppalini!\n",
      "  Lähe nyt kanssa laulamahan,\n",
      "  saa kera sanelemahan\n",
      "  yhtehen yhyttyämme,\n",
      "  kahta'alta käytyämme!\n",
      "  Harvoin yhtehen yhymme,\n",
      "  saamme toinen toisihimme\n",
      "  näillä raukoilla rajoilla,\n",
      "  poloisilla Pohjan mailla.\n",
      "  Lyökämme käsi kätehen,\n",
      "  sormet sormien lomahan,\n",
      "  lauloaksemme hyviä,\n",
      "  parahia pannaksemme,\n",
      "  kuulla noien kultaisien,\n",
      "  tietä mielitehtoisien,\n",
      "  nuorisossa nousevassa,\n",
      "  kansassa kasuavassa:\n",
      "  noita saamia sanoja,\n",
      "  virsiä virittämiä\n",
      "  vyöltä vanhan Väinämöisen,\n",
      "  alta ahjon Ilmarisen,\n",
      "  päästä kalvan Kaukomielen,\n",
      "  Joukahaisen jousen tiestä,\n",
      "  Pohjan peltojen periltä,\n",
      "  Kalevalan kankahilta.\n",
      "  Niit' ennen isoni lauloi\n",
      "  kirvesvartta vuollessansa;\n",
      "  niitä äitini opetti\n",
      "\n"
     ]
    }
   ],
   "source": [
    "with open('datasets/kalevala-fi.txt') as f:\n",
    "    text = f.read()[2329:]\n",
    "    \n",
    "print(len(text))\n",
    "print(text[:1000])"
   ]
  },
  {
   "cell_type": "code",
   "execution_count": 5,
   "id": "15959941-0f88-456b-8bed-43975aa1b582",
   "metadata": {},
   "outputs": [
    {
     "name": "stdout",
     "output_type": "stream",
     "text": [
      "['\\n', ' ', '!', '\"', '$', '%', \"'\", '(', ')', '*', ',', '-', '.', '/', '0', '1', '2', '3', '4', '5', '6', '7', '8', '9', ':', ';', '?', '@', 'A', 'B', 'C', 'D', 'E', 'F', 'G', 'H', 'I', 'J', 'K', 'L', 'M', 'N', 'O', 'P', 'Q', 'R', 'S', 'T', 'U', 'V', 'W', 'X', 'Y', 'a', 'b', 'c', 'd', 'e', 'f', 'g', 'h', 'i', 'j', 'k', 'l', 'm', 'n', 'o', 'p', 'q', 'r', 's', 't', 'u', 'v', 'w', 'x', 'y', 'z', 'Ä', 'ä', 'ö']\n",
      "[49, 80, 61, 66, 80, 65, 81, 61, 66, 57, 66]\n",
      "Väinämöinen\n"
     ]
    }
   ],
   "source": [
    "chars = sorted(set(text))\n",
    "\n",
    "stoi = {c: i for i, c in enumerate(chars)}\n",
    "itos = {i: c for i, c in enumerate(chars)}\n",
    "encode = lambda s: [stoi[c] for c in s]\n",
    "decode = lambda l: ''.join(itos[i] for i in l)\n",
    "\n",
    "print(chars)\n",
    "print(enc := list(encode('Väinämöinen')))\n",
    "print(decode(enc))"
   ]
  },
  {
   "cell_type": "code",
   "execution_count": null,
   "id": "986e4827-f52b-4caa-8f02-2e8450f0740c",
   "metadata": {},
   "outputs": [],
   "source": []
  },
  {
   "cell_type": "markdown",
   "id": "4522de0a-0564-4742-aa2b-2d30f3a87bed",
   "metadata": {},
   "source": [
    "## bigram model"
   ]
  },
  {
   "cell_type": "code",
   "execution_count": 6,
   "id": "7b8d7dd7-dc38-4971-badc-a3434b5f80de",
   "metadata": {},
   "outputs": [],
   "source": [
    "# hyperparams\n",
    "\n",
    "BATCH_SIZE = 32\n",
    "BLOCK_SIZE = 8\n",
    "MAX_ITERS = 10000\n",
    "EVAL_INTERVAL = 300\n",
    "LEARNING_RATE = 1e-2\n",
    "DEVICE = 'cuda' if torch.cuda.is_available() else 'cpu'\n",
    "EVAL_ITERS = 200\n",
    "\n",
    "TRAIN_SPLIT = 0.9"
   ]
  },
  {
   "cell_type": "code",
   "execution_count": 7,
   "id": "6f2eaef7-de5f-426d-82d1-5ecf13f2cf0d",
   "metadata": {},
   "outputs": [],
   "source": [
    "data = torch.tensor(encode(text), dtype=torch.long)\n",
    "n = int(TRAIN_SPLIT * len(data))\n",
    "train_data = data[:n]\n",
    "val_data = data[n:]"
   ]
  },
  {
   "cell_type": "code",
   "execution_count": 8,
   "id": "8b3e1bd9-65c4-428f-98e8-393954ce783b",
   "metadata": {},
   "outputs": [],
   "source": [
    "\n",
    "\n",
    "def get_batch(\n",
    "    split, \n",
    "    batch_size=BATCH_SIZE, \n",
    "    block_size=BLOCK_SIZE\n",
    "):\n",
    "    data = train_data if split == 'train' else val_data\n",
    "    ix = torch.randint(len(data) - block_size, (batch_size,))\n",
    "    x = torch.stack([data[i:i+block_size] for i in ix])\n",
    "    y = torch.stack([data[i+1:i+block_size+1] for i in ix])\n",
    "    x, y = x.to(DEVICE), y.to(DEVICE)\n",
    "    return x, y\n",
    "\n",
    "\n"
   ]
  },
  {
   "cell_type": "code",
   "execution_count": 9,
   "id": "320bb3fa-ae3f-4137-bf94-7b67dd3c68ba",
   "metadata": {},
   "outputs": [],
   "source": [
    "\n",
    "\n",
    "class BigramLanguageModel(nn.Module):\n",
    "    \n",
    "    def __init__(self, vocab_size):\n",
    "        super().__init__()\n",
    "        self.token_embedding_table = nn.Embedding(vocab_size, vocab_size)\n",
    "\n",
    "    def forward(self, idx, targets=None):\n",
    "        \n",
    "        # idx, targets are (B, T) tensors\n",
    "        logits = self.token_embedding_table(idx)  # (B, T, C)\n",
    "\n",
    "        if targets is None:\n",
    "            loss = None\n",
    "        else:\n",
    "            B, T, C = logits.shape\n",
    "            logits = logits.view(B*T, C)\n",
    "            targets = targets.view(B*T)\n",
    "            loss = F.cross_entropy(logits, targets)\n",
    "        \n",
    "        return logits, loss\n",
    "\n",
    "    def generate(self, idx, max_new_tokens):\n",
    "        # idx here is apparently a (B, T) tensor of indices \"in the current context\"\n",
    "        for _ in range(max_new_tokens):\n",
    "            logits, (loss) = self(idx)\n",
    "            logits = logits[:, -1, :]  # take the last time step, \"becomes (B, C)\"\n",
    "            probs = F.softmax(logits, dim=-1)  # (B, C)\n",
    "            idx_next = torch.multinomial(probs, num_samples=1)  # (B, 1)\n",
    "            \n",
    "            # concatenate sample to running, becomes (B, T+1 )\n",
    "            idx = torch.cat((idx, idx_next), dim=1)  \n",
    "        return idx\n",
    "\n",
    "m = BigramLanguageModel(vocab_size=len(chars))\n",
    "m = m.to(DEVICE)\n"
   ]
  },
  {
   "cell_type": "code",
   "execution_count": 10,
   "id": "69f1e045-7aec-412b-a250-89a3512567fc",
   "metadata": {},
   "outputs": [
    {
     "name": "stdout",
     "output_type": "stream",
     "text": [
      "zero train (loss 4.895671844482422):\n",
      "\n",
      "5td)$2r%(Kj.5F!!ä5zL.b!4DBU*j a:S3IGpVe3%0U6ä91ö106F3J5n8T9RH%RgDc@s9(v)3@OöJn*H%8pqUDqabU6\n",
      "/C/N@Ewzepä1qUt\"Fe!xÄS@@@ÄOmn8q4rFk3GfäFMF!8D@Tzfrso(;,E;h8$0mA?h;DfMNrFRCQÄWCNJ0t!K'MiCz3-z''syw-WGsu*JRnLcd\n",
      "\n",
      ".e17$z)-Rc*SÄrWqcVQÄrä?8$OQÄU7cs6r(6AG5ri*lStdbe3?NtiEqö;Q P'\" NrgdwyYgsYVqC179?%vVIt'IC.baFJ7iz0d\n",
      "k';7gw-ä?g2rF6eRW89R8fswLc1UC.z$tJb?;,(pRä'\"(fÄr?;71O1äe89R*SLo7g\n",
      "250EuGp8'j2v$://w$CuXFm689lÄ4T7Ik'ITR,jL.bP'Mh8YOm5rND8AQ9jxM5QSdzyvLqS5RK$uBmA?htF,U6c89D(v,GpEp4l$..*.3$zcxTv5V; Kyw4fhxÄ0kVkYILXo13z3ab!ä%dakgzU6e7iPf2@p8äx-9PD$t9TjY/Mö\n",
      "6FfDH(zdmö:4@Tv:bökVu8M,Y!n8DC\n",
      "H\"DCU\n",
      "dfqF 9SehvR*@@aBX2%SQ(5O1Gf2$0XqR8$tGjqC,ö$-iH*äK)uPQSb )J7WMn:,HBwzhAGph, nC/ämmA*n9SvfCd'ijRUgdAEpFH, O;,A6Kö09OJ8IÄ-,JWöYöMz)lpN@s\n",
      "du2QHEMie5sQbaBX; 87iCU1ORqc*.qN.pshU\n",
      "jUQ!Pen7hUYaä:ElÄq9.vHx,:rde3BM%$8YuQtj\"Äv-9c*1D$n-n9.1I'ev0)dzTlba9lv5!-X;YafizbBa9VsC4n17bqC*oDlrFf89m0S1zz 3gnl\"uKPUölnJb162CzhO;b KÄYjX@D%jxX/gbb BKydl.74u,1ä\n",
      "äCijV,i\n",
      "qkRxq.IL\"Dy10keÄN@9rM8MlPzArxOrwM9äd6euK;d6,$zvbxmB$:uHX!sgdpPHuG113,EwtFJX)uP\"\n"
     ]
    }
   ],
   "source": [
    "xb, yb = get_batch('train')\n",
    "logits, loss = m(xb, yb)\n",
    "\n",
    "idx = torch.zeros((1, 1), dtype=torch.long)\n",
    "gentext = decode(m.generate(idx, max_new_tokens=1000)[0].tolist())\n",
    "print(f'zero train (loss {loss.item()}):')\n",
    "\n",
    "print(gentext)"
   ]
  },
  {
   "cell_type": "code",
   "execution_count": 11,
   "id": "e4dd5889-b11d-4b4c-aa03-4174dc6bff32",
   "metadata": {},
   "outputs": [],
   "source": [
    "@torch.no_grad()\n",
    "def estimate_loss(model):\n",
    "    out = {}\n",
    "    model.eval()\n",
    "    for split in 'train', 'val':\n",
    "        losses = torch.zeros(EVAL_ITERS)\n",
    "        for k in range(EVAL_ITERS):\n",
    "            X, Y = get_batch(split)\n",
    "            logits, loss = model(X, Y)\n",
    "            losses[k] = loss.item()\n",
    "        out[split] = losses.mean()\n",
    "    model.train()\n",
    "    return out"
   ]
  },
  {
   "cell_type": "markdown",
   "id": "f34f0286-0066-4c72-b1a7-dbaf652cb03a",
   "metadata": {},
   "source": [
    "### let's train"
   ]
  },
  {
   "cell_type": "code",
   "execution_count": 12,
   "id": "d24ba989-0342-404c-bedb-b52aa2e4bd9c",
   "metadata": {},
   "outputs": [
    {
     "data": {
      "application/vnd.jupyter.widget-view+json": {
       "model_id": "d5b725267a2445a4aa1dea075396c409",
       "version_major": 2,
       "version_minor": 0
      },
      "text/plain": [
       "  0%|          | 0/10000 [00:00<?, ?it/s]"
      ]
     },
     "metadata": {},
     "output_type": "display_data"
    },
    {
     "name": "stdout",
     "output_type": "stream",
     "text": [
      "0: est_loss['train']=tensor(4.9273) / est_loss['val']=tensor(4.9221)\n",
      "300: est_loss['train']=tensor(2.7050) / est_loss['val']=tensor(3.1170)\n",
      "600: est_loss['train']=tensor(2.4092) / est_loss['val']=tensor(2.9618)\n",
      "900: est_loss['train']=tensor(2.3575) / est_loss['val']=tensor(2.9485)\n",
      "1200: est_loss['train']=tensor(2.3284) / est_loss['val']=tensor(2.9676)\n",
      "1500: est_loss['train']=tensor(2.3329) / est_loss['val']=tensor(2.9871)\n",
      "1800: est_loss['train']=tensor(2.3238) / est_loss['val']=tensor(2.9838)\n",
      "2100: est_loss['train']=tensor(2.3142) / est_loss['val']=tensor(3.0094)\n",
      "2400: est_loss['train']=tensor(2.3082) / est_loss['val']=tensor(3.0048)\n",
      "2700: est_loss['train']=tensor(2.3185) / est_loss['val']=tensor(3.0362)\n",
      "3000: est_loss['train']=tensor(2.3069) / est_loss['val']=tensor(3.0272)\n",
      "3300: est_loss['train']=tensor(2.3163) / est_loss['val']=tensor(3.0678)\n",
      "3600: est_loss['train']=tensor(2.3124) / est_loss['val']=tensor(3.0502)\n",
      "3900: est_loss['train']=tensor(2.3156) / est_loss['val']=tensor(3.0547)\n",
      "4200: est_loss['train']=tensor(2.3085) / est_loss['val']=tensor(3.0754)\n",
      "4500: est_loss['train']=tensor(2.3051) / est_loss['val']=tensor(3.0997)\n",
      "4800: est_loss['train']=tensor(2.3096) / est_loss['val']=tensor(3.1191)\n",
      "5100: est_loss['train']=tensor(2.3044) / est_loss['val']=tensor(3.1059)\n",
      "5400: est_loss['train']=tensor(2.3102) / est_loss['val']=tensor(3.1317)\n",
      "5700: est_loss['train']=tensor(2.3081) / est_loss['val']=tensor(3.1563)\n",
      "6000: est_loss['train']=tensor(2.3107) / est_loss['val']=tensor(3.1434)\n",
      "6300: est_loss['train']=tensor(2.3140) / est_loss['val']=tensor(3.1502)\n",
      "6600: est_loss['train']=tensor(2.3048) / est_loss['val']=tensor(3.1660)\n",
      "6900: est_loss['train']=tensor(2.3049) / est_loss['val']=tensor(3.1800)\n",
      "7200: est_loss['train']=tensor(2.3101) / est_loss['val']=tensor(3.1638)\n",
      "7500: est_loss['train']=tensor(2.3047) / est_loss['val']=tensor(3.1740)\n",
      "7800: est_loss['train']=tensor(2.3084) / est_loss['val']=tensor(3.1577)\n",
      "8100: est_loss['train']=tensor(2.3113) / est_loss['val']=tensor(3.1749)\n",
      "8400: est_loss['train']=tensor(2.3080) / est_loss['val']=tensor(3.2518)\n",
      "8700: est_loss['train']=tensor(2.3091) / est_loss['val']=tensor(3.1725)\n",
      "9000: est_loss['train']=tensor(2.3120) / est_loss['val']=tensor(3.2262)\n",
      "9300: est_loss['train']=tensor(2.3108) / est_loss['val']=tensor(3.2203)\n",
      "9600: est_loss['train']=tensor(2.3038) / est_loss['val']=tensor(3.2654)\n",
      "9900: est_loss['train']=tensor(2.3094) / est_loss['val']=tensor(3.2565)\n"
     ]
    }
   ],
   "source": [
    "optimizer = torch.optim.AdamW(m.parameters(), lr=LEARNING_RATE)\n",
    "\n",
    "_val_losses = []\n",
    "for i in tqdm(range(MAX_ITERS)):\n",
    "    if i % EVAL_INTERVAL == 0:\n",
    "        est_loss = estimate_loss(m)\n",
    "        print(f\"{i}: {est_loss['train']=} / {est_loss['val']=}\")\n",
    "        _val_losses.append({'i': i, 'loss': est_loss['val'].item()})\n",
    "    \n",
    "    xb, yb = get_batch('train')\n",
    "    logits, loss = m(xb, yb)\n",
    "    optimizer.zero_grad()\n",
    "    loss.backward()\n",
    "    optimizer.step()"
   ]
  },
  {
   "cell_type": "code",
   "execution_count": null,
   "id": "a2c63bb6-7ed0-4fc9-85ca-44bcb7c238e0",
   "metadata": {},
   "outputs": [],
   "source": []
  },
  {
   "cell_type": "code",
   "execution_count": 18,
   "id": "21ed716b-3e5d-484d-8003-c7a6c9794949",
   "metadata": {},
   "outputs": [
    {
     "data": {
      "image/png": "[encoded data removed]",
      "text/plain": [
       "<Figure size 640x480 with 1 Axes>"
      ]
     },
     "metadata": {},
     "output_type": "display_data"
    }
   ],
   "source": [
    "pd.DataFrame(_val_losses).set_index('i')['loss'].plot(title='loss');"
   ]
  },
  {
   "cell_type": "code",
   "execution_count": 15,
   "id": "6482983b-c4e0-47a0-930a-59c84c39643f",
   "metadata": {},
   "outputs": [
    {
     "name": "stdout",
     "output_type": "stream",
     "text": [
      "after train (loss 2.408484697341919):\n",
      "\n",
      "  tstahjan\n",
      "  virtii tsouohastava,\n",
      " tka,\n",
      " Ila t va:\n",
      " Vekuo sa laiviia   le,\n",
      " olastan.\"\n",
      " sini;\n",
      " Lanunttkähajon!\n",
      "  ppestämä mä \"Oinn tetolattetoi Kuonätttohatukkantun  kansi   relloin i:\n",
      " kahäi  letattai,\n",
      " lväihihenosaveha  mant to'uvopi;\n",
      " Pon o,\n",
      " ki,\n",
      " ein tatuua\n",
      " Viljela,\n",
      " lla.\n",
      " ksale,\n",
      " kemäkomä,\n",
      " poväkituoan kksuaikusettauvahelosaasilenuon tanonhana,\n",
      " kä,\n",
      " poinoi   Illatuhistanuhtaki!\n",
      " sta, opaneman,\n",
      " lönttuallien iiritatöinelanka  st,\n",
      " stänyätisen ha:\n",
      " n,\n",
      " Siäksissäisa  kekopeanksi t mekskali\n",
      " oha\n",
      " eniäeilemä   anoie eltel pumämä  Lukkäsi  könein.\n",
      " mino voilealevahat  o  kkuuksiotis  ha'  a:\n",
      "  Anäi,\n",
      " latauuolltu letikiralma,\n",
      " Kus Ko    himohäkoaupa \"Poronäkoinerason käkutäämi Vä\n",
      " Väitullulti si juurehepasa,\n",
      " kui site  kanuhää, seksan  ollen!\n",
      " verala  oust tköikalelen viitun Vasisa  tä surein:\n",
      " vat esisin  kki\n",
      " koi,  Kuonnteaaua majykun!\"Kukalevai, taa  pi rarjala puikaeii   kan Sasesi tanai kuouon llie maoni   ehäkansanankyii ki ka lan Lekynhun kasunevoilitrrjailalylpä  n?\n",
      "   vauin Pok\n"
     ]
    }
   ],
   "source": [
    "idx = torch.zeros((1, 1), dtype=torch.long)\n",
    "gentext = decode(m.generate(idx, max_new_tokens=1000)[0].tolist())\n",
    "print(f'after train (loss {loss.item()}):')\n",
    "\n",
    "print(gentext)"
   ]
  },
  {
   "cell_type": "code",
   "execution_count": 16,
   "id": "b06633d9-ee1f-4438-9e49-ee47bd579c3c",
   "metadata": {},
   "outputs": [],
   "source": [
    "# continue from https://youtu.be/kCc8FmEb1nY?t=2297"
   ]
  }
 ],
 "metadata": {
  "kernelspec": {
   "display_name": "Python 3 (ipykernel)",
   "language": "python",
   "name": "python3"
  },
  "language_info": {
   "codemirror_mode": {
    "name": "ipython",
    "version": 3
   },
   "file_extension": ".py",
   "mimetype": "text/x-python",
   "name": "python",
   "nbconvert_exporter": "python",
   "pygments_lexer": "ipython3",
   "version": "3.11.4"
  }
 },
 "nbformat": 4,
 "nbformat_minor": 5
}
